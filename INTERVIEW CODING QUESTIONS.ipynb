{
 "cells": [
  {
   "cell_type": "markdown",
   "id": "b45a9029-7096-4a77-8342-e42eb9b6bba4",
   "metadata": {},
   "source": [
    "Q1.Find the missing number.Given an array of first n natural numbers , find the missing number in the list\n",
    "example : [ 1,2,,4,5,6] o/p:3"
   ]
  },
  {
   "cell_type": "markdown",
   "id": "bec463e5-c5aa-43b5-89d8-4cfa7459a065",
   "metadata": {},
   "source": [
    "solution:               \n",
    "\n",
    "\n",
    "logic\n",
    "a+b+c+x+d=21,\n",
    "a+b+c+d=18,\n",
    "x=21-x, \n",
    "x=x"
   ]
  },
  {
   "cell_type": "code",
   "execution_count": 15,
   "id": "2aa99d8c-5d41-447a-bf35-847216f35ee9",
   "metadata": {},
   "outputs": [
    {
     "data": {
      "text/plain": [
       "3"
      ]
     },
     "execution_count": 15,
     "metadata": {},
     "output_type": "execute_result"
    }
   ],
   "source": [
    "from array import array\n",
    "\n",
    "def missing(n, arr):\n",
    "    act_sum = n * (n + 1) // 2\n",
    "    gn_sum = sum(arr)\n",
    "    return act_sum - gn_sum\n",
    "\n",
    "myarray = array('i', [1, 2, 4, 5, 6])\n",
    "(missing(6, myarray))\n"
   ]
  },
  {
   "cell_type": "markdown",
   "id": "f72da57d-7fa5-445a-b32f-35c8848d03fd",
   "metadata": {},
   "source": [
    "Q2.WRITE A FUNCTION TO FIND 'X' TAKE TWO POS ARGUMENTS \n",
    "1. THE TOTAL SUM\n",
    "2. ARRAY OF OTHER ELEMENTS\n",
    "\n",
    "\n",
    "\n",
    "\n",
    "SAMPLE INPUT:\n",
    "SUM = 24 ARRAY = [ 12,2,0\n",
    "SAMPLE OUTPUT = 10\n",
    "\n",
    "\n",
    "\n",
    "\n",
    "\n",
    "\n",
    "SOLUTION :\n",
    "12+2+0 = 24\n",
    "   FIND X "
   ]
  },
  {
   "cell_type": "code",
   "execution_count": 16,
   "id": "7d9cc68d-3b20-4c82-9fcd-eeaa313af5e5",
   "metadata": {},
   "outputs": [
    {
     "name": "stdout",
     "output_type": "stream",
     "text": [
      "The missing element X is: 10\n"
     ]
    }
   ],
   "source": [
    "def find_x(total_sum, arr):\n",
    "    arr_sum = sum(arr)\n",
    "    x = total_sum - arr_sum\n",
    "    return x\n",
    "total_sum = 24\n",
    "arr = [12, 2, 0]\n",
    "x = find_x(total_sum, arr) \n",
    "print(\"The missing element X is:\", x)\n"
   ]
  },
  {
   "cell_type": "raw",
   "id": "92118c8d-8fbe-4d14-bfb2-1b1905aabf95",
   "metadata": {},
   "source": [
    "Q3. Write a function tht accepts a array arr of size length as its argurment you are requires to return thr sum of second largest elemet from the even pos and second smallest from odd pos \n"
   ]
  },
  {
   "cell_type": "code",
   "execution_count": 6,
   "id": "165053a2-c5c9-4f21-b648-acb8e6f337a5",
   "metadata": {},
   "outputs": [],
   "source": [
    "def funct(arr):\n",
    "    n = len(arr)\n",
    "    if n<=3:\n",
    "        return 0\n",
    "    even = []\n",
    "    odd = [] \n",
    "    for i in range(n):\n",
    "        if i%2==0:\n",
    "            even.append(arr[i])\n",
    "        else:\n",
    "            odd.append(arr[i])\n",
    "    even.sort()\n",
    "    odd.sort()\n",
    "    sumlar = even[-2]\n",
    "    sumsml= odd[1]\n",
    "    sum = sumlar+sumsml\n",
    "    return sum"
   ]
  },
  {
   "cell_type": "code",
   "execution_count": 4,
   "id": "d96834b0-bb5a-4430-8a32-2ed60b196c98",
   "metadata": {},
   "outputs": [
    {
     "name": "stdout",
     "output_type": "stream",
     "text": [
      "13\n"
     ]
    }
   ],
   "source": [
    "arr= [2,9, 8, 1, 7, 6]\n",
    "print(funct(arr))"
   ]
  },
  {
   "cell_type": "code",
   "execution_count": 5,
   "id": "b325bb2c-246a-4700-afef-cd91b856bc96",
   "metadata": {},
   "outputs": [
    {
     "name": "stdout",
     "output_type": "stream",
     "text": [
      "8\n"
     ]
    }
   ],
   "source": [
    "arr= [2,-98, 89, 1, 7, 4]\n",
    "print(funct(arr))"
   ]
  },
  {
   "cell_type": "raw",
   "id": "b4db7ff8-b456-405c-b192-277370aac487",
   "metadata": {},
   "source": [
    "Q4.def differenceofsum(n,m).The function accepts two intergers n,m as arguments find the sum of all numbers in range from 1 to m (both inclusive) that are not divisible by n ,Return difference between sum of integers  not divisible by n with sum of numbers divisible by \n",
    "// input n = 4, M = 20 output = 90"
   ]
  },
  {
   "cell_type": "code",
   "execution_count": 33,
   "id": "4a06fb32-d69f-4072-9214-a405f44ca056",
   "metadata": {},
   "outputs": [],
   "source": [
    "def differenceofsum(n, m):\n",
    "    sum_divisible = 0\n",
    "    sum_not_divisible = 0\n",
    "    for i in range(1, m + 1):\n",
    "        if i % n == 0:\n",
    "            sum_divisible += i\n",
    "        else:\n",
    "            sum_not_divisible += i\n",
    "    \n",
    "    return sum_not_divisible - sum_divisible\n",
    "n = 4\n",
    "m = 20"
   ]
  },
  {
   "cell_type": "code",
   "execution_count": 34,
   "id": "8873b4ce-e262-42e0-a20a-5d617cb4608a",
   "metadata": {},
   "outputs": [
    {
     "name": "stdout",
     "output_type": "stream",
     "text": [
      "90\n"
     ]
    }
   ],
   "source": [
    "result = differenceofsum(n,m)\n",
    "print(result)  "
   ]
  },
  {
   "cell_type": "raw",
   "id": "a35ea99f-9580-40ad-a295-afb4f6f5be05",
   "metadata": {},
   "source": [
    "You are given a function CheckPassword(char,n): The functions accepts string str of size n as an arguement the function which returns:1if the str is valid password else:0 \n",
    "str is a valid password if it satisfies the below conditions \n",
    "1. atleast 4 chars\n",
    "2.at least one number \n",
    "3.at least one capital letter \n",
    "4. must not have spaces or slashes \n",
    "5. strting must not be a number"
   ]
  },
  {
   "cell_type": "code",
   "execution_count": null,
   "id": "cf82af28-fec4-4f92-80fb-01d579b49ae6",
   "metadata": {},
   "outputs": [],
   "source": [
    "def checkPassword(str):\n",
    "    valid = False\n",
    "    if len(str)<4:\n",
    "        return 0\n",
    "    for i in str:\n",
    "        if i.isdigit():\n",
    "            valid = True\n",
    "            break\n",
    "    if valid==False:\n",
    "        return 0\n",
    "    valid = False\n",
    "    for i in str:\n",
    "        if i.isupper():\n",
    "            valid = True\n",
    "            break\n",
    "    if valid==False:\n",
    "        return 0\n",
    "    for i in str:\n",
    "        if i==\" \" or i==\"/\":\n",
    "            return 0\n",
    "    if str[0].isdigit():\n",
    "        return 0\n",
    "    return 1\n",
    "\n",
    "pwd = input(\"Enter a password to check: \")\n",
    "print(checkPassword(pwd))"
   ]
  },
  {
   "cell_type": "code",
   "execution_count": null,
   "id": "e9c58893-963f-441d-b384-eda7d66211b9",
   "metadata": {},
   "outputs": [],
   "source": []
  }
 ],
 "metadata": {
  "kernelspec": {
   "display_name": "Python 3 (ipykernel)",
   "language": "python",
   "name": "python3"
  },
  "language_info": {
   "codemirror_mode": {
    "name": "ipython",
    "version": 3
   },
   "file_extension": ".py",
   "mimetype": "text/x-python",
   "name": "python",
   "nbconvert_exporter": "python",
   "pygments_lexer": "ipython3",
   "version": "3.12.4"
  }
 },
 "nbformat": 4,
 "nbformat_minor": 5
}
